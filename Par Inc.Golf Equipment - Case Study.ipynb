{
 "cells": [
  {
   "cell_type": "code",
   "execution_count": 1,
   "metadata": {},
   "outputs": [],
   "source": [
    "# import the common libraries for mathematical and data frames\n",
    "import pandas as pd\n",
    "import numpy as np\n",
    "\n",
    "#for visualization\n",
    "import matplotlib.pyplot as plt\n",
    "import seaborn as sns\n",
    "\n",
    "# some useful stuff from stats scipy\n",
    "import scipy.stats as stats \n",
    "\n",
    "#to show the graphs inline in the jupyter notebook\n",
    "%matplotlib inline"
   ]
  },
  {
   "cell_type": "code",
   "execution_count": 2,
   "metadata": {},
   "outputs": [
    {
     "data": {
      "text/plain": [
       "<Figure size 720x1080 with 0 Axes>"
      ]
     },
     "metadata": {},
     "output_type": "display_data"
    }
   ],
   "source": [
    "#set the basic figure size and pallete\n",
    "plt.figure(figsize=(10,15))\n",
    "\n",
    "sns.set()\n",
    "pal = sns.hls_palette(8, l=.3, s=.8)\n",
    "sns.set_palette(pal)"
   ]
  },
  {
   "cell_type": "code",
   "execution_count": 3,
   "metadata": {},
   "outputs": [],
   "source": [
    "#read data into a data frame\n",
    "dfGolfData = pd.read_excel(\"SM4-Golf.xls\")"
   ]
  },
  {
   "cell_type": "code",
   "execution_count": 4,
   "metadata": {},
   "outputs": [
    {
     "data": {
      "text/html": [
       "<div>\n",
       "<style scoped>\n",
       "    .dataframe tbody tr th:only-of-type {\n",
       "        vertical-align: middle;\n",
       "    }\n",
       "\n",
       "    .dataframe tbody tr th {\n",
       "        vertical-align: top;\n",
       "    }\n",
       "\n",
       "    .dataframe thead th {\n",
       "        text-align: right;\n",
       "    }\n",
       "</style>\n",
       "<table border=\"1\" class=\"dataframe\">\n",
       "  <thead>\n",
       "    <tr style=\"text-align: right;\">\n",
       "      <th></th>\n",
       "      <th>Current</th>\n",
       "      <th>New</th>\n",
       "    </tr>\n",
       "  </thead>\n",
       "  <tbody>\n",
       "    <tr>\n",
       "      <th>0</th>\n",
       "      <td>264</td>\n",
       "      <td>277</td>\n",
       "    </tr>\n",
       "    <tr>\n",
       "      <th>1</th>\n",
       "      <td>261</td>\n",
       "      <td>269</td>\n",
       "    </tr>\n",
       "    <tr>\n",
       "      <th>2</th>\n",
       "      <td>267</td>\n",
       "      <td>263</td>\n",
       "    </tr>\n",
       "    <tr>\n",
       "      <th>3</th>\n",
       "      <td>272</td>\n",
       "      <td>266</td>\n",
       "    </tr>\n",
       "    <tr>\n",
       "      <th>4</th>\n",
       "      <td>258</td>\n",
       "      <td>262</td>\n",
       "    </tr>\n",
       "  </tbody>\n",
       "</table>\n",
       "</div>"
      ],
      "text/plain": [
       "   Current  New\n",
       "0      264  277\n",
       "1      261  269\n",
       "2      267  263\n",
       "3      272  266\n",
       "4      258  262"
      ]
     },
     "execution_count": 4,
     "metadata": {},
     "output_type": "execute_result"
    }
   ],
   "source": [
    "#verify top 5 data\n",
    "dfGolfData.head(5)"
   ]
  },
  {
   "cell_type": "code",
   "execution_count": 5,
   "metadata": {},
   "outputs": [
    {
     "name": "stdout",
     "output_type": "stream",
     "text": [
      "<class 'pandas.core.frame.DataFrame'>\n",
      "RangeIndex: 40 entries, 0 to 39\n",
      "Data columns (total 2 columns):\n",
      "Current    40 non-null int64\n",
      "New        40 non-null int64\n",
      "dtypes: int64(2)\n",
      "memory usage: 720.0 bytes\n"
     ]
    }
   ],
   "source": [
    "#check the number of rows, columns and dataypes of each column using the info()\n",
    "dfGolfData.info()"
   ]
  },
  {
   "cell_type": "code",
   "execution_count": 6,
   "metadata": {},
   "outputs": [
    {
     "data": {
      "text/plain": [
       "Current    False\n",
       "New        False\n",
       "dtype: bool"
      ]
     },
     "execution_count": 6,
     "metadata": {},
     "output_type": "execute_result"
    }
   ],
   "source": [
    "#check for any null values\n",
    "dfGolfData.isna().any()"
   ]
  },
  {
   "cell_type": "code",
   "execution_count": 7,
   "metadata": {},
   "outputs": [
    {
     "data": {
      "text/plain": [
       "(40, 2)"
      ]
     },
     "execution_count": 7,
     "metadata": {},
     "output_type": "execute_result"
    }
   ],
   "source": [
    "dfGolfData.shape"
   ]
  },
  {
   "cell_type": "code",
   "execution_count": 8,
   "metadata": {},
   "outputs": [
    {
     "data": {
      "text/plain": [
       "0"
      ]
     },
     "execution_count": 8,
     "metadata": {},
     "output_type": "execute_result"
    }
   ],
   "source": [
    "#lets check for any missing value or 0 values\n",
    "dfGolfData[dfGolfData.Current == 0].count()['Current']"
   ]
  },
  {
   "cell_type": "code",
   "execution_count": 9,
   "metadata": {},
   "outputs": [
    {
     "data": {
      "text/plain": [
       "0"
      ]
     },
     "execution_count": 9,
     "metadata": {},
     "output_type": "execute_result"
    }
   ],
   "source": [
    "#lets check for any missing value or 0 values\n",
    "dfGolfData[dfGolfData.New == 0].count()['New']"
   ]
  },
  {
   "cell_type": "code",
   "execution_count": 10,
   "metadata": {},
   "outputs": [
    {
     "name": "stderr",
     "output_type": "stream",
     "text": [
      "C:\\Users\\v-sarvk\\AppData\\Local\\Continuum\\anaconda3\\lib\\site-packages\\scipy\\stats\\stats.py:1713: FutureWarning: Using a non-tuple sequence for multidimensional indexing is deprecated; use `arr[tuple(seq)]` instead of `arr[seq]`. In the future this will be interpreted as an array index, `arr[np.array(seq)]`, which will result either in an error or a different result.\n",
      "  return np.add.reduce(sorted[indexer] * weights, axis=axis) / sumval\n"
     ]
    },
    {
     "data": {
      "text/plain": [
       "<matplotlib.axes._subplots.AxesSubplot at 0x256fedcb320>"
      ]
     },
     "execution_count": 10,
     "metadata": {},
     "output_type": "execute_result"
    },
    {
     "data": {
      "image/png": "[encoded data removed]",
      "text/plain": [
       "<Figure size 432x288 with 1 Axes>"
      ]
     },
     "metadata": {},
     "output_type": "display_data"
    }
   ],
   "source": [
    "#univariate analysis\n",
    "sns.distplot(dfGolfData[\"Current\"])"
   ]
  },
  {
   "cell_type": "code",
   "execution_count": 11,
   "metadata": {},
   "outputs": [
    {
     "data": {
      "text/plain": [
       "<matplotlib.axes._subplots.AxesSubplot at 0x256fed55b70>"
      ]
     },
     "execution_count": 11,
     "metadata": {},
     "output_type": "execute_result"
    },
    {
     "data": {
      "image/png": "[encoded data removed]",
      "text/plain": [
       "<Figure size 432x288 with 1 Axes>"
      ]
     },
     "metadata": {},
     "output_type": "display_data"
    }
   ],
   "source": [
    "#univariate analysis\n",
    "sns.distplot(dfGolfData[\"New\"])"
   ]
  },
  {
   "cell_type": "code",
   "execution_count": 12,
   "metadata": {},
   "outputs": [
    {
     "data": {
      "text/plain": [
       "<matplotlib.axes._subplots.AxesSubplot at 0x256fef407b8>"
      ]
     },
     "execution_count": 12,
     "metadata": {},
     "output_type": "execute_result"
    },
    {
     "data": {
      "image/png": "[encoded data removed]",
      "text/plain": [
       "<Figure size 432x288 with 1 Axes>"
      ]
     },
     "metadata": {},
     "output_type": "display_data"
    }
   ],
   "source": [
    "#lets visualize box plot also, for any outliers\n",
    "sns.boxplot(y=dfGolfData['Current'])"
   ]
  },
  {
   "cell_type": "code",
   "execution_count": 13,
   "metadata": {},
   "outputs": [
    {
     "data": {
      "text/plain": [
       "<matplotlib.axes._subplots.AxesSubplot at 0x256fefa1cc0>"
      ]
     },
     "execution_count": 13,
     "metadata": {},
     "output_type": "execute_result"
    },
    {
     "data": {
      "image/png": "[encoded data removed]",
      "text/plain": [
       "<Figure size 432x288 with 1 Axes>"
      ]
     },
     "metadata": {},
     "output_type": "display_data"
    }
   ],
   "source": [
    "#lets visualize box plot also, for any outliers\n",
    "sns.boxplot(y=dfGolfData['New'])"
   ]
  },
  {
   "cell_type": "code",
   "execution_count": 14,
   "metadata": {},
   "outputs": [
    {
     "data": {
      "text/plain": [
       "<seaborn.axisgrid.PairGrid at 0x256fef205f8>"
      ]
     },
     "execution_count": 14,
     "metadata": {},
     "output_type": "execute_result"
    },
    {
     "data": {
      "image/png": "[encoded data removed]",
      "text/plain": [
       "<Figure size 360x360 with 6 Axes>"
      ]
     },
     "metadata": {},
     "output_type": "display_data"
    }
   ],
   "source": [
    "# create a pair plot using sns to identify the distribution of data between two values \n",
    "#multiple pairwise bivariate distributions \n",
    "\n",
    "sns.pairplot(dfGolfData[['Current','New']])"
   ]
  },
  {
   "cell_type": "code",
   "execution_count": 15,
   "metadata": {},
   "outputs": [
    {
     "data": {
      "text/plain": [
       "Current    12.25\n",
       "New        12.50\n",
       "dtype: float64"
      ]
     },
     "execution_count": 15,
     "metadata": {},
     "output_type": "execute_result"
    }
   ],
   "source": [
    "#lets calculate IQR range\n",
    "Q1 = dfGolfData.quantile(0.25)\n",
    "Q3 = dfGolfData.quantile(0.75)\n",
    "IQR = Q3 - Q1\n",
    "\n",
    "IQR"
   ]
  },
  {
   "cell_type": "markdown",
   "metadata": {},
   "source": [
    "# Check Data is Gaussian or not\n",
    "\n",
    "If Data Is Gaussian:\n",
    "\tUse Parametric Statistical Methods\n",
    "\n",
    "Else:\n",
    "\tUse Nonparametric Statistical Methods\n",
    "    \n",
    "To check this we have normality test and graphical test also"
   ]
  },
  {
   "cell_type": "code",
   "execution_count": 16,
   "metadata": {},
   "outputs": [],
   "source": [
    "from numpy import mean\n",
    "from numpy import std"
   ]
  },
  {
   "cell_type": "code",
   "execution_count": 17,
   "metadata": {},
   "outputs": [
    {
     "name": "stdout",
     "output_type": "stream",
     "text": [
      "Current Golf Ball Data has a Mean=270.275 and Stdv=8.643\n"
     ]
    }
   ],
   "source": [
    "#graphical test for Current Golf data\n",
    "# summarize\n",
    "print('Current Golf Ball Data has a Mean=%.3f and Stdv=%.3f' % (mean(dfGolfData.Current), std(dfGolfData.Current)))"
   ]
  },
  {
   "cell_type": "code",
   "execution_count": 18,
   "metadata": {},
   "outputs": [
    {
     "name": "stdout",
     "output_type": "stream",
     "text": [
      "New Golf Ball Data has a Mean=267.500 and Stdv=9.772\n"
     ]
    }
   ],
   "source": [
    "#graphical test for New Golf data\n",
    "# summarize\n",
    "print('New Golf Ball Data has a Mean=%.3f and Stdv=%.3f' % (mean(dfGolfData.New), std(dfGolfData.New)))"
   ]
  },
  {
   "cell_type": "code",
   "execution_count": 19,
   "metadata": {},
   "outputs": [
    {
     "data": {
      "image/png": "[encoded data removed]",
      "text/plain": [
       "<Figure size 432x288 with 1 Axes>"
      ]
     },
     "metadata": {},
     "output_type": "display_data"
    }
   ],
   "source": [
    "#plot for checking the distribution of a data sample is the quantile-quantile plot\n",
    "from statsmodels.graphics.gofplots import qqplot\n",
    "\n",
    "# q-q plot\n",
    "qqplot(dfGolfData.Current, line='s')\n",
    "plt.show()"
   ]
  },
  {
   "cell_type": "markdown",
   "metadata": {},
   "source": [
    "QQ plot showing the scatter plot of points in a diagonal line, closely fitting the expected diagonal pattern for a sample from a Gaussian distribution.\n",
    "\n",
    "There are a few small deviations, especially at the bottom of the plot, which is to be expected given the small data sample."
   ]
  },
  {
   "cell_type": "code",
   "execution_count": 20,
   "metadata": {},
   "outputs": [
    {
     "data": {
      "image/png": "[encoded data removed]",
      "text/plain": [
       "<Figure size 432x288 with 1 Axes>"
      ]
     },
     "metadata": {},
     "output_type": "display_data"
    }
   ],
   "source": [
    "# q-q plot for New Golf Ball Column\n",
    "qqplot(dfGolfData.New, line='s')\n",
    "plt.show()"
   ]
  },
  {
   "cell_type": "markdown",
   "metadata": {},
   "source": [
    "QQ plot showing the scatter plot of points in a diagonal line, closely fitting the expected diagonal pattern for a sample from a Gaussian distribution.\n",
    "\n",
    "There are wavy small deviations, especially at the bottom of the plot and middle\n"
   ]
  },
  {
   "cell_type": "markdown",
   "metadata": {},
   "source": [
    "\n",
    "Set Null Hypothesis\n",
    "\n",
    "H0: Data is drawn from Gaussian Distribution\n",
    "\n",
    "H1: Data is not Gaussian distribution\n"
   ]
  },
  {
   "cell_type": "markdown",
   "metadata": {},
   "source": [
    "# The Shapiro-Wilk test evaluates a data sample and quantifies how likely it is that the data was drawn from a Gaussian distribution\n",
    "\n",
    "You can interpret the p value as follows.\n",
    "\n",
    "p <= alpha: reject H0, not normal.\n",
    "\n",
    "p > alpha: fail to reject H0, normal."
   ]
  },
  {
   "cell_type": "code",
   "execution_count": 21,
   "metadata": {},
   "outputs": [
    {
     "name": "stdout",
     "output_type": "stream",
     "text": [
      "Statistics=0.971, p=0.379\n",
      "Sample looks Gaussian (fail to reject H0)\n"
     ]
    }
   ],
   "source": [
    "from scipy.stats import shapiro\n",
    "# normality test for Current Golf Balls\n",
    "stat, p = shapiro(dfGolfData.Current)\n",
    "print('Statistics=%.3f, p=%.3f' % (stat, p))\n",
    "# interpret whether the sample for the Current balls is from Gaussian distribution or not\n",
    "alpha = 0.05\n",
    "if p > alpha:\n",
    "    print('Sample looks Gaussian (fail to reject H0)')\n",
    "else:\n",
    "    print('Sample does not look Gaussian (reject H0)')"
   ]
  },
  {
   "cell_type": "code",
   "execution_count": 22,
   "metadata": {},
   "outputs": [
    {
     "name": "stdout",
     "output_type": "stream",
     "text": [
      "Statistics=0.968, p=0.306\n",
      "Sample looks Gaussian (fail to reject H0)\n"
     ]
    }
   ],
   "source": [
    "# normality test for New Golf Balls\n",
    "stat, p = shapiro(dfGolfData.New)\n",
    "print('Statistics=%.3f, p=%.3f' % (stat, p))\n",
    "# interpret whether the sample for the New balls is from Gaussian distribution or not\n",
    "alpha = 0.05\n",
    "if p > alpha:\n",
    "    print('Sample looks Gaussian (fail to reject H0)')\n",
    "else:\n",
    "    print('Sample does not look Gaussian (reject H0)')"
   ]
  },
  {
   "cell_type": "markdown",
   "metadata": {},
   "source": [
    "So both column data are from the Gaussian distribution"
   ]
  },
  {
   "cell_type": "markdown",
   "metadata": {},
   "source": [
    "# Now will do Levene test, which tests the null hypothesis that all input samples are from populations with equal variances\n",
    "\n",
    "H0: Samples are from population with equal variances\n",
    "\n",
    "H1: Samples are not with equal variances\n",
    "\n",
    "tests the null hypothesis that all samples come from populations with equal variances. It returns the test statistic and the probabilty."
   ]
  },
  {
   "cell_type": "code",
   "execution_count": 23,
   "metadata": {},
   "outputs": [
    {
     "name": "stdout",
     "output_type": "stream",
     "text": [
      "Statistics=0.255, p=0.615\n"
     ]
    }
   ],
   "source": [
    "from scipy.stats import levene\n",
    "# Levene variance test for Current and New ball groups \n",
    "stat, p = levene(dfGolfData.Current, dfGolfData.New)\n",
    "print('Statistics=%.3f, p=%.3f' % (stat, p))"
   ]
  },
  {
   "cell_type": "code",
   "execution_count": 24,
   "metadata": {},
   "outputs": [
    {
     "name": "stdout",
     "output_type": "stream",
     "text": [
      "Sample  data sets conform to the variance criterion\n"
     ]
    }
   ],
   "source": [
    "# interpret whether the samples are from populations with equal variances\n",
    "alpha = 0.05\n",
    "if p > alpha:\n",
    "    print('Sample  data sets conform to the variance criterion')\n",
    "else:\n",
    "    print('Sample data sets does not conform to the variance criterion')"
   ]
  },
  {
   "cell_type": "markdown",
   "metadata": {},
   "source": [
    "Since from the ablove levene test it appears that the variance are equal for samples drawn from the population, therefore we can go ahead and use the T-Test with parameter equal_var=True\n",
    "\n",
    "Why T Test?\n",
    "\n",
    "The Independent Samples t Test compares the means of two independent groups in order to determine whether there is statistical evidence that the associated population means are significantly different."
   ]
  },
  {
   "cell_type": "markdown",
   "metadata": {},
   "source": [
    "# Formulate and present the rationale for a hypothesis test that par could use to compare the driving distances of the current and new golf balls!"
   ]
  },
  {
   "cell_type": "markdown",
   "metadata": {},
   "source": [
    "------------------------------------------------------------------------------------------------------------------------------\n",
    "New ball with cut resistant and long lasting feature will be introduced to increase the market share of the company, but we need to check that the driving force of New ball with these new features shouldn't impact and remains in concordance with the Current balls driving force\n",
    "\n",
    "\n",
    "Setting the NULL Hypothesis\n",
    "\n",
    "If mu1 is the population means driving distance for the current golf ball and mu2 is the  population means driving distance for the new golf ball.\n",
    " \n",
    "H0: mu1 = mu2 (the means of two independent groups is same)\n",
    " \n",
    "Ha: mu1 is not equal to mu2 (the means of two independent groups is not same)\n",
    " \n",
    "Test statistics: Two sample t-test\n",
    "\n",
    "Why we will use Independent t Test is because we have two indpendent sampels and from Gaussian distribution\n"
   ]
  },
  {
   "cell_type": "code",
   "execution_count": 25,
   "metadata": {},
   "outputs": [
    {
     "name": "stdout",
     "output_type": "stream",
     "text": [
      "T Statistics: 1.328, and p-value: 0.188\n"
     ]
    }
   ],
   "source": [
    "#for equal variance as proved above via levene, we will use equal_var=True, and for unequal it should be equal_var=False\n",
    "t, p = stats.ttest_ind(dfGolfData.Current, dfGolfData.New, equal_var = True)\n",
    "print('T Statistics: %.3f, and p-value: %.3f' %(t,p))"
   ]
  },
  {
   "cell_type": "markdown",
   "metadata": {},
   "source": [
    "# Analyse the data to provide the hypothesis testing conclusion. What is the p-value for your test? What is your recommendation for Par Inc.?"
   ]
  },
  {
   "cell_type": "code",
   "execution_count": 26,
   "metadata": {},
   "outputs": [
    {
     "name": "stdout",
     "output_type": "stream",
     "text": [
      "The means of two independent groups is same (fail to reject H0)\n"
     ]
    }
   ],
   "source": [
    "# interpret whether the mean of the Current balls is same as that of the New balls\n",
    "alpha = 0.05\n",
    "if p > alpha:\n",
    "    print('The means of two independent groups is same (fail to reject H0)')\n",
    "else:\n",
    "    print('The means of two independent groups is not same (reject H0)')"
   ]
  },
  {
   "cell_type": "markdown",
   "metadata": {},
   "source": [
    "My Recommendation based on the above p-value - Conclude that population means driving distances of the current and new golf balls are equal, and hence we can go ahead with the New ball"
   ]
  },
  {
   "cell_type": "markdown",
   "metadata": {},
   "source": [
    "# Provide descriptive statistical summaries of the data for each model!"
   ]
  },
  {
   "cell_type": "code",
   "execution_count": 27,
   "metadata": {},
   "outputs": [
    {
     "data": {
      "text/plain": [
       "count     40.000000\n",
       "mean     270.275000\n",
       "std        8.752985\n",
       "min      255.000000\n",
       "25%      263.000000\n",
       "50%      270.000000\n",
       "75%      275.250000\n",
       "max      289.000000\n",
       "Name: Current, dtype: float64"
      ]
     },
     "execution_count": 27,
     "metadata": {},
     "output_type": "execute_result"
    }
   ],
   "source": [
    "# to get the basic statistical information and 5 number summary for Current Column\n",
    "dfGolfData.Current.describe()"
   ]
  },
  {
   "cell_type": "code",
   "execution_count": 28,
   "metadata": {},
   "outputs": [
    {
     "data": {
      "text/plain": [
       "count     40.000000\n",
       "mean     267.500000\n",
       "std        9.896904\n",
       "min      250.000000\n",
       "25%      262.000000\n",
       "50%      265.000000\n",
       "75%      274.500000\n",
       "max      289.000000\n",
       "Name: New, dtype: float64"
      ]
     },
     "execution_count": 28,
     "metadata": {},
     "output_type": "execute_result"
    }
   ],
   "source": [
    "# to get the basic statistical information and 5 number summary for New Column\n",
    "dfGolfData.New.describe()"
   ]
  },
  {
   "cell_type": "markdown",
   "metadata": {},
   "source": [
    "# What is the 95% confidence interval for the population mean driving distance of each model"
   ]
  },
  {
   "cell_type": "code",
   "execution_count": 29,
   "metadata": {},
   "outputs": [
    {
     "name": "stdout",
     "output_type": "stream",
     "text": [
      "95% CI [267.441, 273.109]\n"
     ]
    }
   ],
   "source": [
    "#The critical value can be calculated using the degrees of freedom and a significance level \n",
    "#with the percent point function (PPF)\n",
    "\n",
    "from scipy.stats import t\n",
    "\n",
    "# For Current\n",
    "#Since there 40 data values in the sample so degree of freedom is\n",
    "dof_Current = 39 #(N-1)\n",
    "mean_Current = 270.275\n",
    "std_dev_Current = 8.75\n",
    "alpha=0.05\n",
    "\n",
    "t_critical_Current = t.ppf(1-0.05/2 , dof_Current)\n",
    "\n",
    "#95% confidence interval for current model:\n",
    "lower_Current = mean_Current - (t_critical_Current * std_dev_Current/np.sqrt(dof_Current)) \n",
    "upper_Current = mean_Current + (t_critical_Current * std_dev_Current/np.sqrt(dof_Current)) \n",
    "\n",
    "print(\"95% CI [{}, {}]\".format(lower_Current.round(3), upper_Current.round(3)))"
   ]
  },
  {
   "cell_type": "code",
   "execution_count": 30,
   "metadata": {},
   "outputs": [
    {
     "name": "stdout",
     "output_type": "stream",
     "text": [
      "95% CI [264.295, 270.705]\n"
     ]
    }
   ],
   "source": [
    "# For New Balls\n",
    "#Since there 40 data values in the sample so degree of freedom is\n",
    "dof_New = 39 #(N-1)\n",
    "mean_New = 267.50\n",
    "std_dev_New = 9.896\n",
    "alpha=0.05\n",
    "\n",
    "t_critical_New = t.ppf(1-0.05/2 , dof_New)\n",
    "# why we did alpha/2 is because its a two tailed test\n",
    "\n",
    "#95% confidence interval for current model:\n",
    "lower_New = mean_New - (t_critical_New * std_dev_New/np.sqrt(dof_New)) \n",
    "upper_New = mean_New + (t_critical_New * std_dev_New/np.sqrt(dof_New)) \n",
    "\n",
    "print(\"95% CI [{}, {}]\".format(lower_New.round(3), upper_New.round(3)))"
   ]
  },
  {
   "cell_type": "markdown",
   "metadata": {},
   "source": [
    "# What is the 95% confidence interval for the difference between the means of the two populations?"
   ]
  },
  {
   "cell_type": "code",
   "execution_count": 31,
   "metadata": {},
   "outputs": [],
   "source": [
    "# standard error of the means\n",
    "sd_error = np.sqrt((std_dev_Current ** 2)/40 + (std_dev_New ** 2)/40)\n",
    "#sd_error\n",
    "t_critical = t.ppf(1-alpha/2, 39)"
   ]
  },
  {
   "cell_type": "code",
   "execution_count": 32,
   "metadata": {},
   "outputs": [
    {
     "name": "stdout",
     "output_type": "stream",
     "text": [
      "Confidence Interval:\n",
      "95% CI (mean_New - mean_Current) [-1.4496323994066032, 6.999632399406558]\n"
     ]
    }
   ],
   "source": [
    "print(\"Confidence Interval:\")\n",
    "print(\"95% CI (mean_New - mean_Current) [{}, {}]\".format(mean_Current - mean_New - (t_critical * sd_error), \n",
    "                                                       mean_Current - mean_New + (t_critical * sd_error)))\n",
    "  "
   ]
  },
  {
   "cell_type": "code",
   "execution_count": null,
   "metadata": {},
   "outputs": [],
   "source": []
  },
  {
   "cell_type": "markdown",
   "metadata": {},
   "source": [
    "# Do you see a need for larger sample sizes and more testing with the golf balls?"
   ]
  },
  {
   "cell_type": "markdown",
   "metadata": {},
   "source": [
    "Cohen's d is the appropriate effect size measure if two groups have similar standard deviations and are of the same size\n",
    "\n",
    "Small Effect Size: d=0.20\n",
    "\n",
    "Medium Effect Size: d=0.50\n",
    "\n",
    "Large Effect Size: d=0.80"
   ]
  },
  {
   "cell_type": "code",
   "execution_count": 33,
   "metadata": {},
   "outputs": [
    {
     "data": {
      "text/plain": [
       "9.340591951263047"
      ]
     },
     "execution_count": 33,
     "metadata": {},
     "output_type": "execute_result"
    }
   ],
   "source": [
    "#Calculate the Pooled Standard Deviation\n",
    "# took formulae from wiki\n",
    "\n",
    "pooled_SD = np.sqrt((dof_Current * (std_dev_Current**2) + dof_New * (std_dev_New**2))/(dof_Current + dof_New))\n",
    "pooled_SD"
   ]
  },
  {
   "cell_type": "code",
   "execution_count": 34,
   "metadata": {},
   "outputs": [
    {
     "data": {
      "text/plain": [
       "0.2970903786911212"
      ]
     },
     "execution_count": 34,
     "metadata": {},
     "output_type": "execute_result"
    }
   ],
   "source": [
    "cohensd = (mean_Current - mean_New)/pooled_SD\n",
    "cohensd"
   ]
  },
  {
   "cell_type": "markdown",
   "metadata": {},
   "source": [
    "The difference between the means is 0.29 of one standard deviation interpreted as a small effect size"
   ]
  },
  {
   "cell_type": "code",
   "execution_count": 35,
   "metadata": {},
   "outputs": [
    {
     "name": "stdout",
     "output_type": "stream",
     "text": [
      "Sample Size: 187.621\n"
     ]
    }
   ],
   "source": [
    "# estimate sample size via power analysis\n",
    "from statsmodels.stats.power import TTestIndPower\n",
    "# parameters for power analysis\n",
    "effect = 0.29 #cohensd value calculated above for this sample data\n",
    "alpha = 0.05\n",
    "power = 0.80\n",
    "# perform power analysis\n",
    "analysis = TTestIndPower()\n",
    "result = analysis.solve_power(effect, power=power, nobs1=None, ratio=1.0, alpha=alpha)\n",
    "print('Sample Size: %.3f' % result)"
   ]
  },
  {
   "cell_type": "code",
   "execution_count": 36,
   "metadata": {},
   "outputs": [
    {
     "data": {
      "image/png": "[encoded data removed]",
      "text/plain": [
       "<Figure size 432x288 with 1 Axes>"
      ]
     },
     "metadata": {},
     "output_type": "display_data"
    }
   ],
   "source": [
    "# calculate power curves for varying sample and effect size\n",
    "from numpy import array\n",
    "\n",
    "# parameters for power analysis\n",
    "effect_sizes = array([0.2, 0.5, 0.8]) #these are the 3 standard cohen values\n",
    "sample_sizes = array(range(10, 200)) #considering sample size from 10 to 200\n",
    "\n",
    "# calculate power curves from multiple power analyses\n",
    "analysis = TTestIndPower()\n",
    "analysis.plot_power(dep_var='nobs', nobs=sample_sizes, effect_size=effect_sizes, alpha=0.05,\n",
    "                   title='Power of t-Test' + '\\n' + r'$\\alpha = 0.05$')\n",
    "plt.show()"
   ]
  },
  {
   "cell_type": "code",
   "execution_count": 37,
   "metadata": {},
   "outputs": [
    {
     "data": {
      "image/png": "[encoded data removed]",
      "text/plain": [
       "<Figure size 432x288 with 1 Axes>"
      ]
     },
     "metadata": {},
     "output_type": "display_data"
    }
   ],
   "source": [
    "# calculate power curves for varying sample and effect size, alpha = 0.01\n",
    "from numpy import array\n",
    "\n",
    "# parameters for power analysis\n",
    "effect_sizes = array([0.2, 0.5, 0.8]) #these are the 3 standard cohen values\n",
    "sample_sizes = array(range(10, 200)) #considering sample size from 10 to 200\n",
    "\n",
    "# calculate power curves from multiple power analyses\n",
    "analysis = TTestIndPower()\n",
    "analysis.plot_power(dep_var='nobs', nobs=sample_sizes, effect_size=effect_sizes, alpha=0.01,\n",
    "                   title='Power of t-Test' + '\\n' + r'$\\alpha = 0.01$')\n",
    "plt.show()"
   ]
  },
  {
   "cell_type": "markdown",
   "metadata": {},
   "source": [
    "Power = Pr(reject H0 | H1 is true) = 1 - Pr(fail to reject H0 | H0 is false)\n",
    "\n",
    "Too little power will lead to wrong conclusions, which in turn will affect the decision-making process. That is why only results with an acceptable level of power should be taken into consideration. It is quite common to design experiments with power level of 80%, which translates to a 20% probability of committing a Type II error"
   ]
  },
  {
   "cell_type": "markdown",
   "metadata": {},
   "source": [
    "# This shows that there is need for larger sample sizes and more testing with the golf balls\n",
    "\n",
    "From the plots we can infer that an increase in the the sample/effect size leads to an increase in power. In other words, the bigger the sample, the higher the power, keeping other parameters constant"
   ]
  },
  {
   "cell_type": "code",
   "execution_count": null,
   "metadata": {},
   "outputs": [],
   "source": []
  }
 ],
 "metadata": {
  "kernelspec": {
   "display_name": "Python 3",
   "language": "python",
   "name": "python3"
  },
  "language_info": {
   "codemirror_mode": {
    "name": "ipython",
    "version": 3
   },
   "file_extension": ".py",
   "mimetype": "text/x-python",
   "name": "python",
   "nbconvert_exporter": "python",
   "pygments_lexer": "ipython3",
   "version": "3.7.3"
  }
 },
 "nbformat": 4,
 "nbformat_minor": 2
}
